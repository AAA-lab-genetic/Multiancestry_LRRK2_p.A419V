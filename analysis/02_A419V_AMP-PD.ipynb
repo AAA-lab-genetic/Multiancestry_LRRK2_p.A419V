{
 "cells": [
  {
   "cell_type": "markdown",
   "metadata": {},
   "source": [
    "# LRRK2 p.A419V - Analysis in AMP-PD EUR "
   ]
  },
  {
   "cell_type": "markdown",
   "metadata": {},
   "source": [
    "- Project: Multiancestry LRRK2 p.A419V analysis\n",
    "- Version: Python/3.10.12\n",
    "- Last Updated: 05-MAY-2025"
   ]
  },
  {
   "cell_type": "markdown",
   "metadata": {},
   "source": [
    "# Description\n",
    "\n",
    "**1. Description**\n",
    "- Getting started\n",
    "- Load python libraries\n",
    "- Define function\n",
    "- Setting up path\n",
    "- Create Directory\n",
    "\n",
    "**2. Create Covariate**\n",
    "\n",
    "**3. PLINK file preparation**\n",
    "- Remove related individual\n",
    "- Keep EUR samples\n",
    "\n",
    "**4. HWE**\n",
    "\n",
    "**5. Check AMP-PD p.A419V MAF**"
   ]
  },
  {
   "cell_type": "markdown",
   "metadata": {},
   "source": [
    "# Getting started"
   ]
  },
  {
   "cell_type": "markdown",
   "metadata": {
    "heading_collapsed": true
   },
   "source": [
    "## Load python libraries"
   ]
  },
  {
   "cell_type": "code",
   "execution_count": 5,
   "metadata": {
    "hidden": true
   },
   "outputs": [
    {
     "name": "stderr",
     "output_type": "stream",
     "text": [
      "/tmp/ipykernel_84/4190448927.py:26: DeprecationWarning: Importing display from IPython.core.display is deprecated since IPython 7.14, please import from IPython display\n",
      "  from IPython.core.display import display, HTML\n"
     ]
    }
   ],
   "source": [
    "# Use the os package to interact with the environment\n",
    "import os\n",
    "import sys\n",
    "\n",
    "# Bring in Pandas for Dataframe functionality\n",
    "import pandas as pd\n",
    "from functools import reduce\n",
    "\n",
    "# Bring some visualization functionality \n",
    "import seaborn as sns  \n",
    "\n",
    "# numpy for basics\n",
    "import numpy as np\n",
    "\n",
    "# Use StringIO for working with file contents\n",
    "from io import StringIO\n",
    "\n",
    "# Enable IPython to display matplotlib graphs\n",
    "import matplotlib.pyplot as plt\n",
    "%matplotlib inline\n",
    "\n",
    "# Enable interaction with the FireCloud API\n",
    "from firecloud import api as fapi\n",
    "\n",
    "# Import the iPython HTML rendering for displaying links to Google Cloud Console\n",
    "from IPython.core.display import display, HTML\n",
    "\n",
    "# Import urllib modules for building URLs to Google Cloud Console\n",
    "import urllib.parse\n",
    "\n",
    "# BigQuery for querying data\n",
    "from google.cloud import bigquery\n",
    "\n",
    "#Import Sys\n",
    "import sys as sys"
   ]
  },
  {
   "cell_type": "markdown",
   "metadata": {},
   "source": [
    "## Define function"
   ]
  },
  {
   "cell_type": "code",
   "execution_count": 6,
   "metadata": {},
   "outputs": [],
   "source": [
    "# Utility routine for printing a shell command before executing it\n",
    "def shell_do(command):\n",
    "    print(f'Executing: {command}', file=sys.stderr)\n",
    "    !$command\n",
    "    \n",
    "def shell_return(command):\n",
    "    print(f'Executing: {command}', file=sys.stderr)\n",
    "    output = !$command\n",
    "    return '\\n'.join(output)\n",
    "\n",
    "# Utility routine for printing a query before executing it\n",
    "def bq_query(query):\n",
    "    print(f'Executing: {query}', file=sys.stderr)\n",
    "    return pd.read_gbq(query, project_id=BILLING_PROJECT_ID, dialect='standard')\n",
    "\n",
    "# Utility routine for display a message and a link\n",
    "def display_html_link(description, link_text, url):\n",
    "    html = f'''\n",
    "    <p>\n",
    "    </p>\n",
    "    <p>\n",
    "    {description}\n",
    "    <a target=_blank href=\"{url}\">{link_text}</a>.\n",
    "    </p>\n",
    "    '''\n",
    "\n",
    "    display(HTML(html))\n",
    "\n",
    "# Utility routines for reading files from Google Cloud Storage\n",
    "def gcs_read_file(path):\n",
    "    \"\"\"Return the contents of a file in GCS\"\"\"\n",
    "    contents = !gsutil -u {BILLING_PROJECT_ID} cat {path}\n",
    "    return '\\n'.join(contents)\n",
    "    \n",
    "def gcs_read_csv(path, sep=None):\n",
    "    \"\"\"Return a DataFrame from the contents of a delimited file in GCS\"\"\"\n",
    "    return pd.read_csv(StringIO(gcs_read_file(path)), sep=sep, engine='python')\n",
    "\n",
    "# Utility routine for displaying a message and link to Cloud Console\n",
    "def link_to_cloud_console_gcs(description, link_text, gcs_path):\n",
    "    url = '{}?{}'.format(\n",
    "        os.path.join('https://console.cloud.google.com/storage/browser',\n",
    "                     gcs_path.replace(\"gs://\",\"\")),\n",
    "        urllib.parse.urlencode({'userProject': BILLING_PROJECT_ID}))\n",
    "\n",
    "    display_html_link(description, link_text, url)"
   ]
  },
  {
   "cell_type": "markdown",
   "metadata": {},
   "source": [
    "## Setting up path"
   ]
  },
  {
   "cell_type": "code",
   "execution_count": 11,
   "metadata": {},
   "outputs": [
    {
     "name": "stdout",
     "output_type": "stream",
     "text": [
      "Billing and Workspace\n",
      "Workspace Name @ `WORKSPACE_NAME`: Malaysian project\n",
      "Billing Project @ `BILLING_PROJECT_ID`: terra-8cb3be5c\n",
      "Workspace Bucket, where you can upload and download data @ `WORKSPACE_BUCKET`: gs://fc-e8a73e41-545c-42b1-8720-970cf953ba35\n",
      "\n",
      "AMP-PD v3.0\n",
      "Path to AMP-PD v3.0 Clinical Data: gs://amp-pd-data/releases/2022_v3release_1115/clinical\n",
      "Path to AMP-PD v3.0 WGS Data: gs://amp-pd-genomics/releases/2022_v3release_1115/wgs-WB-DWGS/plink\n",
      "Path to AMP-PD v3.0 WGS Data: gs://amp-pd-genomics/releases/2022_v3release_1115/wgs-WB-DWGS/plink/pfiles\n",
      "\n"
     ]
    }
   ],
   "source": [
    "# Set up billing project and data path variables\n",
    "BILLING_PROJECT_ID = os.environ['GOOGLE_PROJECT']\n",
    "WORKSPACE_NAMESPACE = os.environ['WORKSPACE_NAMESPACE']\n",
    "WORKSPACE_NAME = os.environ['WORKSPACE_NAME']\n",
    "WORKSPACE_BUCKET = os.environ['WORKSPACE_BUCKET']\n",
    "WORKSPACE_ATTRIBUTES = fapi.get_workspace(WORKSPACE_NAMESPACE, WORKSPACE_NAME).json().get('workspace',{}).get('attributes',{})\n",
    "\n",
    "## Print the information to check we are in the proper release and billing \n",
    "## This will be different for you, the user, depending on the billing project your workspace is on\n",
    "print('Billing and Workspace')\n",
    "print(f'Workspace Name @ `WORKSPACE_NAME`: {WORKSPACE_NAME}')\n",
    "print(f'Billing Project @ `BILLING_PROJECT_ID`: {BILLING_PROJECT_ID}')\n",
    "print(f'Workspace Bucket, where you can upload and download data @ `WORKSPACE_BUCKET`: {WORKSPACE_BUCKET}')\n",
    "print('')\n",
    "\n",
    "## AMP-PD v3.0\n",
    "## Explicitly define release v3.0 path \n",
    "AMP_RELEASE_PATH = 'gs://amp-pd-data/releases/2022_v3release_1115'\n",
    "AMP_CLINICAL_RELEASE_PATH = f'{AMP_RELEASE_PATH}/clinical'\n",
    "AMP_RELEASE_GATK_PATH = os.path.join(AMP_RELEASE_PATH, 'gatk')\n",
    "AMP_WGS_RELEASE_PATH = 'gs://amp-pd-genomics/releases/2022_v3release_1115/wgs-WB-DWGS'\n",
    "AMP_WGS_RELEASE_PLINK_PATH = os.path.join(AMP_WGS_RELEASE_PATH, 'plink')\n",
    "AMP_WGS_RELEASE_PLINK_PFILES = os.path.join(AMP_WGS_RELEASE_PLINK_PATH, 'pfiles')\n",
    "\n",
    "print('AMP-PD v3.0')\n",
    "print(f'Path to AMP-PD v3.0 Clinical Data: {AMP_CLINICAL_RELEASE_PATH}')\n",
    "print(f'Path to AMP-PD v3.0 WGS Data: {AMP_WGS_RELEASE_PLINK_PATH}')\n",
    "print(f'Path to AMP-PD v3.0 WGS Data: {AMP_WGS_RELEASE_PLINK_PFILES}')\n",
    "print('')"
   ]
  },
  {
   "cell_type": "code",
   "execution_count": 12,
   "metadata": {},
   "outputs": [
    {
     "name": "stderr",
     "output_type": "stream",
     "text": [
      "Executing: gsutil -u terra-8cb3be5c ls gs://amp-pd-data/releases/2022_v3release_1115\n"
     ]
    },
    {
     "name": "stdout",
     "output_type": "stream",
     "text": [
      "gs://amp-pd-data/releases/2022_v3release_1115/amp_pd_case_control.csv\r\n",
      "gs://amp-pd-data/releases/2022_v3release_1115/amp_pd_global_sample_inventory.csv\r\n",
      "gs://amp-pd-data/releases/2022_v3release_1115/amp_pd_participant_wgs_duplicates.csv\r\n",
      "gs://amp-pd-data/releases/2022_v3release_1115/amp_pd_participants.csv\r\n",
      "gs://amp-pd-data/releases/2022_v3release_1115/proteomics_CSF-PPEA-D01_sample_inventory.csv\r\n",
      "gs://amp-pd-data/releases/2022_v3release_1115/proteomics_CSF-PPEA-D02_sample_inventory.csv\r\n",
      "gs://amp-pd-data/releases/2022_v3release_1115/proteomics_PLA-PPEA-D01_sample_inventory.csv\r\n",
      "gs://amp-pd-data/releases/2022_v3release_1115/proteomics_PLA-PPEA-D02_sample_inventory.csv\r\n",
      "gs://amp-pd-data/releases/2022_v3release_1115/rnaseq_CSF-REBR-VG29_sample_inventory.csv\r\n",
      "gs://amp-pd-data/releases/2022_v3release_1115/rnaseq_CSF-REBR-VGLN_sample_inventory.csv\r\n",
      "gs://amp-pd-data/releases/2022_v3release_1115/rnaseq_PLA-REBR-VG29_sample_inventory.csv\r\n",
      "gs://amp-pd-data/releases/2022_v3release_1115/rnaseq_PLA-REBR-VGLN_sample_inventory.csv\r\n",
      "gs://amp-pd-data/releases/2022_v3release_1115/rnaseq_PLA-RESR_sample_inventory.csv\r\n",
      "gs://amp-pd-data/releases/2022_v3release_1115/rnaseq_WB-RWTS_sample_inventory.csv\r\n",
      "gs://amp-pd-data/releases/2022_v3release_1115/wgs_WB-DWGS_sample_inventory.csv\r\n",
      "gs://amp-pd-data/releases/2022_v3release_1115/wgs_gatk_joint_genotyping_samples.csv\r\n",
      "gs://amp-pd-data/releases/2022_v3release_1115/clinical/\r\n"
     ]
    }
   ],
   "source": [
    "# List data inside release 3\n",
    "shell_do(f\"gsutil -u {BILLING_PROJECT_ID} ls {AMP_RELEASE_PATH}\")"
   ]
  },
  {
   "cell_type": "markdown",
   "metadata": {},
   "source": [
    "## Create Directory"
   ]
  },
  {
   "cell_type": "code",
   "execution_count": 15,
   "metadata": {},
   "outputs": [],
   "source": [
    "%%bash\n",
    "\n",
    "# Create directory \n",
    "WORK_DIR='/home/jupyter/A419V_release9/amppd'\n",
    "mkdir -p ${WORK_DIR}"
   ]
  },
  {
   "cell_type": "code",
   "execution_count": 16,
   "metadata": {},
   "outputs": [
    {
     "name": "stderr",
     "output_type": "stream",
     "text": [
      "Executing: gsutil -u terra-8cb3be5c -m cp gs://amp-pd-genomics/releases/2022_v3release_1115/wgs-WB-DWGS/plink/pfiles/chr12.* /home/jupyter/A419V_release9/amppd\n"
     ]
    },
    {
     "name": "stdout",
     "output_type": "stream",
     "text": [
      "Copying gs://amp-pd-genomics/releases/2022_v3release_1115/wgs-WB-DWGS/plink/pfiles/chr12.psam...\n",
      "Copying gs://amp-pd-genomics/releases/2022_v3release_1115/wgs-WB-DWGS/plink/pfiles/chr12.pgen...\n",
      "Copying gs://amp-pd-genomics/releases/2022_v3release_1115/wgs-WB-DWGS/plink/pfiles/chr12.pvar...\n",
      "| [3/3 files][ 11.4 GiB/ 11.4 GiB] 100% Done  76.4 MiB/s ETA 00:00:00           \n",
      "Operation completed over 3 objects/11.4 GiB.                                     \n"
     ]
    }
   ],
   "source": [
    "WORK_DIR = f'/home/jupyter/A419V_release9/amppd'\n",
    "\n",
    "#A419V position: 40252984\n",
    "shell_do(f'gsutil -u {BILLING_PROJECT_ID} -m cp {AMP_WGS_RELEASE_PLINK_PFILES}/chr12.* {WORK_DIR}')"
   ]
  },
  {
   "cell_type": "code",
   "execution_count": 17,
   "metadata": {},
   "outputs": [
    {
     "name": "stderr",
     "output_type": "stream",
     "text": [
      "Executing: gsutil -u terra-8cb3be5c -m cp -r gs://amp-pd-data/releases/2022_v3release_1115/amp_pd_case_control.csv /home/jupyter/A419V_release9/amppd\n"
     ]
    },
    {
     "name": "stdout",
     "output_type": "stream",
     "text": [
      "Copying gs://amp-pd-data/releases/2022_v3release_1115/amp_pd_case_control.csv...\n",
      "/ [1/1 files][735.1 KiB/735.1 KiB] 100% Done                                    \n",
      "Operation completed over 1 objects/735.1 KiB.                                    \n"
     ]
    },
    {
     "name": "stderr",
     "output_type": "stream",
     "text": [
      "Executing: gsutil -u terra-8cb3be5c -m cp -r gs://amp-pd-data/releases/2022_v3release_1115/clinical/Enrollment.csv /home/jupyter/A419V_release9/amppd\n"
     ]
    },
    {
     "name": "stdout",
     "output_type": "stream",
     "text": [
      "Copying gs://amp-pd-data/releases/2022_v3release_1115/clinical/Enrollment.csv...\n",
      "/ [1/1 files][622.6 KiB/622.6 KiB] 100% Done                                    \n",
      "Operation completed over 1 objects/622.6 KiB.                                    \n"
     ]
    },
    {
     "name": "stderr",
     "output_type": "stream",
     "text": [
      "Executing: gsutil -u terra-8cb3be5c -m cp -r gs://amp-pd-data/releases/2022_v3release_1115/clinical/Demographics.csv /home/jupyter/A419V_release9/amppd\n"
     ]
    },
    {
     "name": "stdout",
     "output_type": "stream",
     "text": [
      "Copying gs://amp-pd-data/releases/2022_v3release_1115/clinical/Demographics.csv...\n",
      "/ [1/1 files][622.2 KiB/622.2 KiB] 100% Done                                    \n",
      "Operation completed over 1 objects/622.2 KiB.                                    \n"
     ]
    },
    {
     "name": "stderr",
     "output_type": "stream",
     "text": [
      "Executing: gsutil -u terra-8cb3be5c -m cp -r gs://amp-pd-data/releases/2022_v3release_1115/clinical/PD_Medical_History.csv  /home/jupyter/A419V_release9/amppd\n"
     ]
    },
    {
     "name": "stdout",
     "output_type": "stream",
     "text": [
      "Copying gs://amp-pd-data/releases/2022_v3release_1115/clinical/PD_Medical_History.csv...\n",
      "/ [1/1 files][  1.8 MiB/  1.8 MiB] 100% Done                                    \n",
      "Operation completed over 1 objects/1.8 MiB.                                      \n"
     ]
    }
   ],
   "source": [
    "#Copy other AMP-PD files (clinical info)\n",
    "shell_do(f'gsutil -u {BILLING_PROJECT_ID} -m cp -r {AMP_RELEASE_PATH}/amp_pd_case_control.csv {WORK_DIR}')\n",
    "shell_do(f'gsutil -u {BILLING_PROJECT_ID} -m cp -r {AMP_CLINICAL_RELEASE_PATH}/Enrollment.csv {WORK_DIR}')\n",
    "shell_do(f'gsutil -u {BILLING_PROJECT_ID} -m cp -r {AMP_CLINICAL_RELEASE_PATH}/Demographics.csv {WORK_DIR}')\n",
    "shell_do(f'gsutil -u {BILLING_PROJECT_ID} -m cp -r {AMP_CLINICAL_RELEASE_PATH}/PD_Medical_History.csv  {WORK_DIR}')"
   ]
  },
  {
   "cell_type": "code",
   "execution_count": 5,
   "metadata": {},
   "outputs": [
    {
     "name": "stderr",
     "output_type": "stream",
     "text": [
      "Executing: gsutil -u terra-8cb3be5c -m cp -r gs://fc-e8a73e41-545c-42b1-8720-970cf953ba35/AMP-PD_data/AMPPD_EUR.COVS.txt /home/jupyter/A419V_release9/amppd\n"
     ]
    },
    {
     "name": "stdout",
     "output_type": "stream",
     "text": [
      "Copying gs://fc-e8a73e41-545c-42b1-8720-970cf953ba35/AMP-PD_data/AMPPD_EUR.COVS.txt...\n",
      "/ [1/1 files][453.0 KiB/453.0 KiB] 100% Done                                    \n",
      "Operation completed over 1 objects/453.0 KiB.                                    \n"
     ]
    },
    {
     "name": "stderr",
     "output_type": "stream",
     "text": [
      "Executing: gsutil -u terra-8cb3be5c -m cp -r gs://fc-e8a73e41-545c-42b1-8720-970cf953ba35/AMP-PD_data/toRemove_1stand2ndDegree_Relateds_EUR.txt /home/jupyter/A419V_release9/amppd\n"
     ]
    },
    {
     "name": "stdout",
     "output_type": "stream",
     "text": [
      "Copying gs://fc-e8a73e41-545c-42b1-8720-970cf953ba35/AMP-PD_data/toRemove_1stand2ndDegree_Relateds_EUR.txt...\n",
      "/ [1/1 files][ 11.9 KiB/ 11.9 KiB] 100% Done                                    \n",
      "Operation completed over 1 objects/11.9 KiB.                                     \n"
     ]
    }
   ],
   "source": [
    "#Copy other AMP-PD files (covariates, relatedness information and genotools predicted ancestries)\n",
    "\n",
    "shell_do(f'gsutil -u {BILLING_PROJECT_ID} -m cp -r {WORKSPACE_BUCKET}/AMP-PD_data/AMPPD_EUR.COVS.txt {WORK_DIR}')\n",
    "shell_do(f'gsutil -u {BILLING_PROJECT_ID} -m cp -r {WORKSPACE_BUCKET}/AMP-PD_data/toRemove_1stand2ndDegree_Relateds_EUR.txt {WORK_DIR}')\n",
    "shell_do(f'gsutil -u {BILLING_PROJECT_ID} -m cp -r {WORKSPACE_BUCKET}/AMP-PD_data/FILTERED.AMP_PD_ancestry_EUR.samples {WORK_DIR}')"
   ]
  },
  {
   "cell_type": "markdown",
   "metadata": {},
   "source": [
    "# Create covariate"
   ]
  },
  {
   "cell_type": "code",
   "execution_count": 4,
   "metadata": {},
   "outputs": [],
   "source": [
    "# Load clinical information\n",
    "pd_case_control_df = pd.read_csv(f'{WORK_DIR}/amp_pd_case_control.csv')"
   ]
  },
  {
   "cell_type": "code",
   "execution_count": 5,
   "metadata": {},
   "outputs": [],
   "source": [
    "# Keep columns of interest\n",
    "pd_case_control_latest_df = pd_case_control_df[['participant_id', 'diagnosis_latest', 'case_control_other_latest']].copy()\n",
    "\n",
    "# Rename Columns\n",
    "pd_case_control_latest_df.columns = ['ID', 'LATEST_DX', 'CASE_CONTROL']"
   ]
  },
  {
   "cell_type": "code",
   "execution_count": 6,
   "metadata": {},
   "outputs": [
    {
     "name": "stdout",
     "output_type": "stream",
     "text": [
      "CASE_CONTROL\n",
      "Control    4363\n",
      "Case       3608\n",
      "Other      2937\n",
      "Name: count, dtype: int64\n"
     ]
    }
   ],
   "source": [
    "#Check case/control value counts\n",
    "print(pd_case_control_latest_df['CASE_CONTROL'].value_counts())"
   ]
  },
  {
   "cell_type": "code",
   "execution_count": 7,
   "metadata": {},
   "outputs": [],
   "source": [
    "# Add column for study origin\n",
    "pd_case_control_latest_df['COHORT']= np.where(pd_case_control_latest_df.ID.str.contains(\"LB-\"), \"LBD\",\n",
    "                                    np.where(pd_case_control_latest_df.ID.str.contains(\"PP-\"), \"PPMI\",\n",
    "                                    np.where(pd_case_control_latest_df.ID.str.contains(\"PD-\"), \"PDBP\",\n",
    "                                    np.where(pd_case_control_latest_df.ID.str.contains(\"HB-\"), \"HBS\",\n",
    "                                    np.where(pd_case_control_latest_df.ID.str.contains(\"LC-\"), \"LCC\",\n",
    "                                    np.where(pd_case_control_latest_df.ID.str.contains(\"BF-\"), \"BIOFIND\",\n",
    "                                    np.where(pd_case_control_latest_df.ID.str.contains(\"SU-\"), \"SURE-PD3\",\n",
    "                                    np.where(pd_case_control_latest_df.ID.str.contains(\"SY-\"), \"STEADY-PD3\", np.nan))))))))"
   ]
  },
  {
   "cell_type": "code",
   "execution_count": 8,
   "metadata": {},
   "outputs": [],
   "source": [
    "# Drop duplicates\n",
    "case_con_reduced = pd_case_control_latest_df.copy()\n",
    "case_con_reduced.drop_duplicates(subset=['ID'], inplace=True)"
   ]
  },
  {
   "cell_type": "code",
   "execution_count": 9,
   "metadata": {},
   "outputs": [],
   "source": [
    "case_con_reduced.loc[case_con_reduced['CASE_CONTROL'] == \"Control\", 'CASE_CONTROL'] = 1\n",
    "case_con_reduced.loc[case_con_reduced['CASE_CONTROL'] == \"Case\", 'CASE_CONTROL'] = 2\n",
    "case_con_reduced.loc[case_con_reduced['CASE_CONTROL'] == \"Other\", 'CASE_CONTROL'] = -9"
   ]
  },
  {
   "cell_type": "code",
   "execution_count": 10,
   "metadata": {},
   "outputs": [
    {
     "name": "stdout",
     "output_type": "stream",
     "text": [
      "CASE_CONTROL\n",
      "1     4363\n",
      "2     3608\n",
      "-9    2937\n",
      "Name: count, dtype: int64\n"
     ]
    }
   ],
   "source": [
    "print(case_con_reduced['CASE_CONTROL'].value_counts())"
   ]
  },
  {
   "cell_type": "code",
   "execution_count": 11,
   "metadata": {},
   "outputs": [],
   "source": [
    "# Load Enrollment.csv\n",
    "enrollment_df = pd.read_csv(f'{WORK_DIR}/Enrollment.csv')"
   ]
  },
  {
   "cell_type": "code",
   "execution_count": 12,
   "metadata": {},
   "outputs": [],
   "source": [
    "# Keep columns of interest\n",
    "enrollment_subset_df = enrollment_df[['participant_id', 'study_arm']].copy()\n",
    "\n",
    "# Rename columns\n",
    "enrollment_subset_df.columns = ['ID', 'ENROLL_STUDY_ARM']\n",
    "enrollment_subset_df.head()\n",
    "\n",
    "# Drop duplicates\n",
    "enrollment_subset_df.drop_duplicates(subset=['ID'], keep='first', inplace=True)"
   ]
  },
  {
   "cell_type": "code",
   "execution_count": 13,
   "metadata": {},
   "outputs": [],
   "source": [
    "# load demographic data\n",
    "demographics_df = pd.read_csv(f'{WORK_DIR}/Demographics.csv')"
   ]
  },
  {
   "cell_type": "code",
   "execution_count": 14,
   "metadata": {},
   "outputs": [],
   "source": [
    "# Rename Columns\n",
    "demographics_df.rename(columns = {'participant_id':'ID'}, inplace = True)\n",
    "demographics_df.rename(columns = {'age_at_baseline':'BASELINE_AGE'}, inplace = True)\n",
    "demographics_df.rename(columns = {'race':'RACE'}, inplace = True)\n",
    "demographics_df.rename(columns = {'ethnicity':'ETHNICITY'}, inplace = True)"
   ]
  },
  {
   "cell_type": "code",
   "execution_count": 15,
   "metadata": {},
   "outputs": [],
   "source": [
    "# Sort by visit month and Drop Duplicates\n",
    "demographics_baseline_df = demographics_df \\\n",
    ".sort_values('visit_month', ascending=True) \\\n",
    ".drop_duplicates('ID').sort_index()"
   ]
  },
  {
   "cell_type": "code",
   "execution_count": 16,
   "metadata": {},
   "outputs": [],
   "source": [
    "# Merge last diagnostic with diagnostic at enrollement\n",
    "demographics_df_casecon = demographics_df.merge(case_con_reduced, on='ID', how='outer')"
   ]
  },
  {
   "cell_type": "code",
   "execution_count": 17,
   "metadata": {},
   "outputs": [
    {
     "data": {
      "text/plain": [
       "sex\n",
       "Male      6039\n",
       "Female    4869\n",
       "Name: count, dtype: int64"
      ]
     },
     "execution_count": 17,
     "metadata": {},
     "output_type": "execute_result"
    }
   ],
   "source": [
    "demographics_df_casecon['sex'].value_counts()"
   ]
  },
  {
   "cell_type": "code",
   "execution_count": 18,
   "metadata": {},
   "outputs": [],
   "source": [
    "# Recode the sex into numberic: 1 and 2\n",
    "\n",
    "demographics_df_casecon.loc[demographics_df_casecon['sex'] == \"Male\", 'sex'] = 1\n",
    "demographics_df_casecon.loc[demographics_df_casecon['sex'] == \"Female\", 'sex'] = 2"
   ]
  },
  {
   "cell_type": "code",
   "execution_count": 19,
   "metadata": {},
   "outputs": [],
   "source": [
    "demographics_df_casecon.rename(columns = {\"ID\": \"IID\", \"CASE_CONTROL\":\"PHENO\", \"sex\": \"SEX\"}, inplace = True)\n",
    "demographics_df_casecon = demographics_df_casecon[['IID', 'PHENO', 'SEX', 'RACE','ETHNICITY','BASELINE_AGE', 'LATEST_DX','COHORT']]"
   ]
  },
  {
   "cell_type": "code",
   "execution_count": 20,
   "metadata": {},
   "outputs": [],
   "source": [
    "# Keep only columns of interest\n",
    "demographics_df_casecon_toKeep = demographics_df_casecon[['IID', 'PHENO', 'SEX', 'RACE',\n",
    "                                                          'ETHNICITY','BASELINE_AGE', 'LATEST_DX',\n",
    "                                                          'COHORT']].copy()"
   ]
  },
  {
   "cell_type": "code",
   "execution_count": 21,
   "metadata": {},
   "outputs": [],
   "source": [
    "enrollment_subset_df.rename(columns = {\"ID\" : \"IID\"}, inplace = True)"
   ]
  },
  {
   "cell_type": "code",
   "execution_count": 22,
   "metadata": {},
   "outputs": [],
   "source": [
    "# Merge Pheno with demograhic data\n",
    "enrollment_pheno_df = demographics_df_casecon_toKeep.merge(enrollment_subset_df, on='IID', how='outer')\n",
    "\n",
    "# Create FID column\n",
    "enrollment_pheno_df['FID'] = enrollment_pheno_df['IID'].values\n",
    "\n",
    "# Order columns\n",
    "reorder_enrollment_pheno_df = enrollment_pheno_df[['FID', 'IID', 'PHENO',\n",
    "                                                  'SEX', 'RACE','ETHNICITY', 'BASELINE_AGE', 'LATEST_DX',\n",
    "                                                  'COHORT', 'ENROLL_STUDY_ARM']].copy()"
   ]
  },
  {
   "cell_type": "code",
   "execution_count": 23,
   "metadata": {},
   "outputs": [
    {
     "data": {
      "text/html": [
       "<div>\n",
       "<style scoped>\n",
       "    .dataframe tbody tr th:only-of-type {\n",
       "        vertical-align: middle;\n",
       "    }\n",
       "\n",
       "    .dataframe tbody tr th {\n",
       "        vertical-align: top;\n",
       "    }\n",
       "\n",
       "    .dataframe thead th {\n",
       "        text-align: right;\n",
       "    }\n",
       "</style>\n",
       "<table border=\"1\" class=\"dataframe\">\n",
       "  <thead>\n",
       "    <tr style=\"text-align: right;\">\n",
       "      <th></th>\n",
       "      <th>PHENO</th>\n",
       "      <th>ENROLL_STUDY_ARM</th>\n",
       "      <th>counts</th>\n",
       "    </tr>\n",
       "  </thead>\n",
       "  <tbody>\n",
       "    <tr>\n",
       "      <th>0</th>\n",
       "      <td>-9</td>\n",
       "      <td>Disease Control</td>\n",
       "      <td>155</td>\n",
       "    </tr>\n",
       "    <tr>\n",
       "      <th>1</th>\n",
       "      <td>-9</td>\n",
       "      <td>Genetic Cohort PD</td>\n",
       "      <td>4</td>\n",
       "    </tr>\n",
       "    <tr>\n",
       "      <th>2</th>\n",
       "      <td>-9</td>\n",
       "      <td>Genetic Cohort Unaffected</td>\n",
       "      <td>44</td>\n",
       "    </tr>\n",
       "    <tr>\n",
       "      <th>3</th>\n",
       "      <td>-9</td>\n",
       "      <td>Genetic Registry Unaffected</td>\n",
       "      <td>16</td>\n",
       "    </tr>\n",
       "    <tr>\n",
       "      <th>4</th>\n",
       "      <td>-9</td>\n",
       "      <td>Healthy Control</td>\n",
       "      <td>15</td>\n",
       "    </tr>\n",
       "    <tr>\n",
       "      <th>5</th>\n",
       "      <td>-9</td>\n",
       "      <td>LBD</td>\n",
       "      <td>2521</td>\n",
       "    </tr>\n",
       "    <tr>\n",
       "      <th>6</th>\n",
       "      <td>-9</td>\n",
       "      <td>PD</td>\n",
       "      <td>27</td>\n",
       "    </tr>\n",
       "    <tr>\n",
       "      <th>7</th>\n",
       "      <td>-9</td>\n",
       "      <td>Prodromal</td>\n",
       "      <td>45</td>\n",
       "    </tr>\n",
       "    <tr>\n",
       "      <th>8</th>\n",
       "      <td>-9</td>\n",
       "      <td>SWEDD</td>\n",
       "      <td>9</td>\n",
       "    </tr>\n",
       "    <tr>\n",
       "      <th>9</th>\n",
       "      <td>1</td>\n",
       "      <td>Disease Control</td>\n",
       "      <td>1</td>\n",
       "    </tr>\n",
       "    <tr>\n",
       "      <th>10</th>\n",
       "      <td>1</td>\n",
       "      <td>Genetic Cohort PD</td>\n",
       "      <td>1</td>\n",
       "    </tr>\n",
       "    <tr>\n",
       "      <th>11</th>\n",
       "      <td>1</td>\n",
       "      <td>Genetic Cohort Unaffected</td>\n",
       "      <td>362</td>\n",
       "    </tr>\n",
       "    <tr>\n",
       "      <th>12</th>\n",
       "      <td>1</td>\n",
       "      <td>Genetic Registry Unaffected</td>\n",
       "      <td>226</td>\n",
       "    </tr>\n",
       "    <tr>\n",
       "      <th>13</th>\n",
       "      <td>1</td>\n",
       "      <td>Healthy Control</td>\n",
       "      <td>3359</td>\n",
       "    </tr>\n",
       "    <tr>\n",
       "      <th>14</th>\n",
       "      <td>1</td>\n",
       "      <td>Prodromal</td>\n",
       "      <td>4</td>\n",
       "    </tr>\n",
       "    <tr>\n",
       "      <th>15</th>\n",
       "      <td>1</td>\n",
       "      <td>SWEDD</td>\n",
       "      <td>2</td>\n",
       "    </tr>\n",
       "    <tr>\n",
       "      <th>16</th>\n",
       "      <td>2</td>\n",
       "      <td>Disease Control</td>\n",
       "      <td>3</td>\n",
       "    </tr>\n",
       "    <tr>\n",
       "      <th>17</th>\n",
       "      <td>2</td>\n",
       "      <td>Genetic Cohort PD</td>\n",
       "      <td>275</td>\n",
       "    </tr>\n",
       "    <tr>\n",
       "      <th>18</th>\n",
       "      <td>2</td>\n",
       "      <td>Genetic Cohort Unaffected</td>\n",
       "      <td>21</td>\n",
       "    </tr>\n",
       "    <tr>\n",
       "      <th>19</th>\n",
       "      <td>2</td>\n",
       "      <td>Genetic Registry PD</td>\n",
       "      <td>196</td>\n",
       "    </tr>\n",
       "    <tr>\n",
       "      <th>20</th>\n",
       "      <td>2</td>\n",
       "      <td>Genetic Registry Unaffected</td>\n",
       "      <td>3</td>\n",
       "    </tr>\n",
       "    <tr>\n",
       "      <th>21</th>\n",
       "      <td>2</td>\n",
       "      <td>Healthy Control</td>\n",
       "      <td>4</td>\n",
       "    </tr>\n",
       "    <tr>\n",
       "      <th>22</th>\n",
       "      <td>2</td>\n",
       "      <td>PD</td>\n",
       "      <td>2679</td>\n",
       "    </tr>\n",
       "    <tr>\n",
       "      <th>23</th>\n",
       "      <td>2</td>\n",
       "      <td>Prodromal</td>\n",
       "      <td>15</td>\n",
       "    </tr>\n",
       "    <tr>\n",
       "      <th>24</th>\n",
       "      <td>2</td>\n",
       "      <td>SWEDD</td>\n",
       "      <td>67</td>\n",
       "    </tr>\n",
       "    <tr>\n",
       "      <th>25</th>\n",
       "      <td>2</td>\n",
       "      <td>Unknown</td>\n",
       "      <td>1</td>\n",
       "    </tr>\n",
       "  </tbody>\n",
       "</table>\n",
       "</div>"
      ],
      "text/plain": [
       "    PHENO             ENROLL_STUDY_ARM  counts\n",
       "0      -9              Disease Control     155\n",
       "1      -9            Genetic Cohort PD       4\n",
       "2      -9    Genetic Cohort Unaffected      44\n",
       "3      -9  Genetic Registry Unaffected      16\n",
       "4      -9              Healthy Control      15\n",
       "5      -9                          LBD    2521\n",
       "6      -9                           PD      27\n",
       "7      -9                    Prodromal      45\n",
       "8      -9                        SWEDD       9\n",
       "9       1              Disease Control       1\n",
       "10      1            Genetic Cohort PD       1\n",
       "11      1    Genetic Cohort Unaffected     362\n",
       "12      1  Genetic Registry Unaffected     226\n",
       "13      1              Healthy Control    3359\n",
       "14      1                    Prodromal       4\n",
       "15      1                        SWEDD       2\n",
       "16      2              Disease Control       3\n",
       "17      2            Genetic Cohort PD     275\n",
       "18      2    Genetic Cohort Unaffected      21\n",
       "19      2          Genetic Registry PD     196\n",
       "20      2  Genetic Registry Unaffected       3\n",
       "21      2              Healthy Control       4\n",
       "22      2                           PD    2679\n",
       "23      2                    Prodromal      15\n",
       "24      2                        SWEDD      67\n",
       "25      2                      Unknown       1"
      ]
     },
     "execution_count": 23,
     "metadata": {},
     "output_type": "execute_result"
    }
   ],
   "source": [
    "#Check phenotype vs. enrollment study arm value counts\n",
    "reorder_enrollment_pheno_df.groupby(['PHENO', 'ENROLL_STUDY_ARM']).size().reset_index(name='counts')"
   ]
  },
  {
   "cell_type": "code",
   "execution_count": 24,
   "metadata": {},
   "outputs": [
    {
     "data": {
      "text/html": [
       "<div>\n",
       "<style scoped>\n",
       "    .dataframe tbody tr th:only-of-type {\n",
       "        vertical-align: middle;\n",
       "    }\n",
       "\n",
       "    .dataframe tbody tr th {\n",
       "        vertical-align: top;\n",
       "    }\n",
       "\n",
       "    .dataframe thead th {\n",
       "        text-align: right;\n",
       "    }\n",
       "</style>\n",
       "<table border=\"1\" class=\"dataframe\">\n",
       "  <thead>\n",
       "    <tr style=\"text-align: right;\">\n",
       "      <th></th>\n",
       "      <th>PHENO</th>\n",
       "      <th>ENROLL_STUDY_ARM</th>\n",
       "      <th>counts</th>\n",
       "    </tr>\n",
       "  </thead>\n",
       "  <tbody>\n",
       "    <tr>\n",
       "      <th>0</th>\n",
       "      <td>1</td>\n",
       "      <td>Disease Control</td>\n",
       "      <td>1</td>\n",
       "    </tr>\n",
       "    <tr>\n",
       "      <th>1</th>\n",
       "      <td>1</td>\n",
       "      <td>Healthy Control</td>\n",
       "      <td>3359</td>\n",
       "    </tr>\n",
       "    <tr>\n",
       "      <th>2</th>\n",
       "      <td>2</td>\n",
       "      <td>PD</td>\n",
       "      <td>2679</td>\n",
       "    </tr>\n",
       "  </tbody>\n",
       "</table>\n",
       "</div>"
      ],
      "text/plain": [
       "   PHENO ENROLL_STUDY_ARM  counts\n",
       "0      1  Disease Control       1\n",
       "1      1  Healthy Control    3359\n",
       "2      2               PD    2679"
      ]
     },
     "execution_count": 24,
     "metadata": {},
     "output_type": "execute_result"
    }
   ],
   "source": [
    "#Remove individuals from the genetic registry cohorts and other enrollment categories\n",
    "#We only want to keep  controls who were originally enrolled as controls, and PD cases originally enrolled as cases\n",
    "#Will exclude prodromal, SWEDD and unknown individuals also\n",
    "#Individuals enrolled as disease control but the latest diagnosis is PD will also be excluded\n",
    "\n",
    "#Keep only individuals enrolled as Healthy Control/Disease Control or PD.\n",
    "filtered_enrollment_pheno_df = reorder_enrollment_pheno_df.copy()\n",
    "filtered_enrollment_pheno_df = filtered_enrollment_pheno_df[filtered_enrollment_pheno_df['ENROLL_STUDY_ARM'].isin(['Disease Control', \n",
    "                                                                                                                   'Healthy Control', \n",
    "                                                                                                                  'PD'])]\n",
    "#Now remove individuals with PHENO of -9 (keep only individuals with PHENO of 1 or 2)\n",
    "filtered_enrollment_pheno_df = filtered_enrollment_pheno_df[filtered_enrollment_pheno_df['PHENO'].isin([1,2])]\n",
    "\n",
    "#Now remove individuals who were enrolled with the opposite diagnosis, i.e. individuals who were enrolled as controls but have a latest diagnosis of PD\n",
    "filtered_enrollment_pheno_df = filtered_enrollment_pheno_df[((filtered_enrollment_pheno_df['PHENO'] == 2) & (filtered_enrollment_pheno_df['ENROLL_STUDY_ARM'] == 'PD')) | (filtered_enrollment_pheno_df['PHENO'] == 1)]\n",
    "\n",
    "\n",
    "#Check value counts again\n",
    "filtered_enrollment_pheno_df.groupby(['PHENO', 'ENROLL_STUDY_ARM']).size().reset_index(name='counts')"
   ]
  },
  {
   "cell_type": "code",
   "execution_count": 45,
   "metadata": {},
   "outputs": [],
   "source": [
    "#Save file - this is intermediate not final covariate file\n",
    "#This includes all ancestries\n",
    "filtered_enrollment_pheno_df.to_csv(f'{WORK_DIR}/COVS_temp.txt', index=False, sep='\\t', na_rep='NA')"
   ]
  },
  {
   "cell_type": "code",
   "execution_count": 35,
   "metadata": {},
   "outputs": [],
   "source": [
    "filtered_enrollment_pheno_df[[\"FID\", \"IID\", \"SEX\"]].to_csv(f\"{WORK_DIR}/update_sex.txt\", sep = \"\\t\", header = True, index = False)\n",
    "filtered_enrollment_pheno_df[[\"FID\", \"IID\", \"PHENO\"]].to_csv(f\"{WORK_DIR}/update_pheno.txt\", sep = \"\\t\", header = True, index = False)"
   ]
  },
  {
   "cell_type": "markdown",
   "metadata": {},
   "source": [
    "# PLINK file preparation \n",
    "\n"
   ]
  },
  {
   "cell_type": "code",
   "execution_count": 44,
   "metadata": {},
   "outputs": [
    {
     "name": "stdout",
     "output_type": "stream",
     "text": [
      "PLINK v2.0.0-a.6.9LM 64-bit Intel (29 Jan 2025)    cog-genomics.org/plink/2.0/\n",
      "(C) 2005-2025 Shaun Purcell, Christopher Chang   GNU General Public License v3\n",
      "Logging to a419v_ampd.log.\n",
      "Options in effect:\n",
      "  --chr 12\n",
      "  --from-bp 40252984\n",
      "  --make-bed\n",
      "  --out a419v_ampd\n",
      "  --pfile chr12\n",
      "  --to-bp 40252984\n",
      "\n",
      "Start time: Tue Apr 22 03:04:27 2025\n",
      "52216 MiB RAM detected, ~50112 available; reserving 26108 MiB for main\n",
      "workspace.\n",
      "Using up to 8 compute threads.\n",
      "10418 samples (0 females, 0 males, 10418 ambiguous; 10418 founders) loaded from\n",
      "chr12.psam.\n",
      "7282999 variants loaded from chr12.pvar.\n",
      "Note: No phenotype data present.\n",
      "1 variant remaining after main filters.\n",
      "Writing a419v_ampd.fam ... done.\n",
      "Writing a419v_ampd.bim ... done.\n",
      "Writing a419v_ampd.bed ... done.\n",
      "End time: Tue Apr 22 03:04:55 2025\n"
     ]
    }
   ],
   "source": [
    "%%bash\n",
    "WORK_DIR='/home/jupyter/A419V_release9/amppd'\n",
    "cd $WORK_DIR\n",
    "\n",
    "# Extract LRRK2 p.A419V only\n",
    "/home/jupyter/plink2 \\\n",
    "--pfile chr12 \\\n",
    "--chr 12 \\\n",
    "--from-bp 40252984 \\\n",
    "--to-bp 40252984 \\\n",
    "--make-bed \\\n",
    "--out a419v_ampd"
   ]
  },
  {
   "cell_type": "code",
   "execution_count": 45,
   "metadata": {},
   "outputs": [
    {
     "name": "stdout",
     "output_type": "stream",
     "text": [
      "PLINK v1.90b6.9 64-bit (4 Mar 2019)            www.cog-genomics.org/plink/1.9/\n",
      "(C) 2005-2019 Shaun Purcell, Christopher Chang   GNU General Public License v3\n",
      "Logging to a419v_ampd.log.\n",
      "Options in effect:\n",
      "  --bfile a419v_ampd\n",
      "  --out a419v_ampd\n",
      "  --recode A\n",
      "\n",
      "52216 MB RAM detected; reserving 26108 MB for main workspace.\n",
      "1 variant loaded from .bim file.\n",
      "10418 people (0 males, 0 females, 10418 ambiguous) loaded from .fam.\n",
      "Ambiguous sex IDs written to a419v_ampd.nosex .\n",
      "Using 1 thread (no multithreaded calculations invoked).\n",
      "Before main variant filters, 10418 founders and 0 nonfounders present.\n",
      "Calculating allele frequencies... 10111213141516171819202122232425262728293031323334353637383940414243444546474849505152535455565758596061626364656667686970717273747576777879808182838485868788899091929394959697989 done.\n",
      "1 variant and 10418 people pass filters and QC.\n",
      "Note: No phenotypes present.\n",
      "--recode A to a419v_ampd.raw ... 101112131415161718192021222324252627282930313233343536373839404142434445464748495051525354555657585960616263646566676869707172737475767778798081828384858687888990919293949596979899done.\n"
     ]
    }
   ],
   "source": [
    "%%bash\n",
    "WORK_DIR='/home/jupyter/A419V_release9/amppd'\n",
    "cd $WORK_DIR\n",
    "\n",
    "/home/jupyter/plink1.9 \\\n",
    "--bfile a419v_ampd \\\n",
    "--recode A \\\n",
    "--out a419v_ampd"
   ]
  },
  {
   "cell_type": "markdown",
   "metadata": {},
   "source": [
    "## Remove related individual"
   ]
  },
  {
   "cell_type": "code",
   "execution_count": 45,
   "metadata": {},
   "outputs": [
    {
     "name": "stdout",
     "output_type": "stream",
     "text": [
      "10418 a419v_ampd.fam\n",
      "8607 FILTERED.AMP_PD_ancestry_EUR.samples\n"
     ]
    }
   ],
   "source": [
    "%%bash\n",
    "WORK_DIR='/home/jupyter/A419V_release9/amppd'\n",
    "cd $WORK_DIR\n",
    "\n",
    "wc -l a419v_ampd.fam\n",
    "wc -l FILTERED.AMP_PD_ancestry_EUR.samples"
   ]
  },
  {
   "cell_type": "markdown",
   "metadata": {},
   "source": [
    "## Keep EUR samples"
   ]
  },
  {
   "cell_type": "code",
   "execution_count": 36,
   "metadata": {},
   "outputs": [
    {
     "name": "stdout",
     "output_type": "stream",
     "text": [
      "PLINK v1.90b6.9 64-bit (4 Mar 2019)            www.cog-genomics.org/plink/1.9/\n",
      "(C) 2005-2019 Shaun Purcell, Christopher Chang   GNU General Public License v3\n",
      "Logging to a419v_ampd_eur.log.\n",
      "Options in effect:\n",
      "  --bfile a419v_ampd\n",
      "  --keep FILTERED.AMP_PD_ancestry_EUR.samples\n",
      "  --make-bed\n",
      "  --out a419v_ampd_eur\n",
      "  --pheno update_pheno.txt\n",
      "  --update-sex update_sex.txt\n",
      "\n",
      "52216 MB RAM detected; reserving 26108 MB for main workspace.\n",
      "1 variant loaded from .bim file.\n",
      "10418 people (0 males, 0 females, 10418 ambiguous) loaded from .fam.\n",
      "Ambiguous sex IDs written to a419v_ampd_eur.nosex .\n",
      "5871 phenotype values present after --pheno.\n",
      "--update-sex: 5871 people updated, 169 IDs not present.\n",
      "--keep: 8607 people remaining.\n",
      "Using 1 thread (no multithreaded calculations invoked).\n",
      "Before main variant filters, 8607 founders and 0 nonfounders present.\n",
      "Calculating allele frequencies... 10111213141516171819202122232425262728293031323334353637383940414243444546474849505152535455565758596061626364656667686970717273747576777879808182838485868788899091929394959697989 done.\n",
      "1 variant and 8607 people pass filters and QC.\n",
      "Among remaining phenotypes, 2254 are cases and 2920 are controls.  (3433\n",
      "phenotypes are missing.)\n",
      "--make-bed to a419v_ampd_eur.bed + a419v_ampd_eur.bim + a419v_ampd_eur.fam ...\n",
      "101112131415161718192021222324252627282930313233343536373839404142434445464748495051525354555657585960616263646566676869707172737475767778798081828384858687888990919293949596979899done.\n"
     ]
    }
   ],
   "source": [
    "%%bash\n",
    "WORK_DIR='/home/jupyter/A419V_release9/amppd'\n",
    "cd $WORK_DIR\n",
    "\n",
    "# Keep only EUR samples\n",
    "/home/jupyter/plink1.9 \\\n",
    "--bfile a419v_ampd \\\n",
    "--keep FILTERED.AMP_PD_ancestry_EUR.samples \\\n",
    "--update-sex update_sex.txt \\\n",
    "--pheno update_pheno.txt \\\n",
    "--make-bed \\\n",
    "--out a419v_ampd_eur"
   ]
  },
  {
   "cell_type": "code",
   "execution_count": 7,
   "metadata": {},
   "outputs": [
    {
     "name": "stdout",
     "output_type": "stream",
     "text": [
      "PLINK v1.90b6.9 64-bit (4 Mar 2019)            www.cog-genomics.org/plink/1.9/\n",
      "(C) 2005-2019 Shaun Purcell, Christopher Chang   GNU General Public License v3\n",
      "Logging to a419v_ampd_eur_no_rel.log.\n",
      "Options in effect:\n",
      "  --bfile a419v_ampd_eur\n",
      "  --make-bed\n",
      "  --out a419v_ampd_eur_no_rel\n",
      "  --remove toRemove_1stand2ndDegree_Relateds_EUR.txt\n",
      "\n",
      "52216 MB RAM detected; reserving 26108 MB for main workspace.\n",
      "1 variant loaded from .bim file.\n",
      "8607 people (2844 males, 2330 females, 3433 ambiguous) loaded from .fam.\n",
      "Ambiguous sex IDs written to a419v_ampd_eur_no_rel.nosex .\n",
      "5174 phenotype values loaded from .fam.\n",
      "--remove: 8282 people remaining.\n",
      "Using 1 thread (no multithreaded calculations invoked).\n",
      "Before main variant filters, 8282 founders and 0 nonfounders present.\n"
     ]
    },
    {
     "name": "stderr",
     "output_type": "stream",
     "text": [
      "Warning: At least 248 duplicate IDs in --remove file.\n"
     ]
    },
    {
     "name": "stdout",
     "output_type": "stream",
     "text": [
      "Calculating allele frequencies... 10111213141516171819202122232425262728293031323334353637383940414243444546474849505152535455565758596061626364656667686970717273747576777879808182838485868788899091929394959697989 done.\n",
      "1 variant and 8282 people pass filters and QC.\n",
      "Among remaining phenotypes, 2251 are cases and 2835 are controls.  (3196\n",
      "phenotypes are missing.)\n",
      "--make-bed to a419v_ampd_eur_no_rel.bed + a419v_ampd_eur_no_rel.bim +\n",
      "a419v_ampd_eur_no_rel.fam ... 101112131415161718192021222324252627282930313233343536373839404142434445464748495051525354555657585960616263646566676869707172737475767778798081828384858687888990919293949596979899done.\n"
     ]
    }
   ],
   "source": [
    "%%bash\n",
    "WORK_DIR='/home/jupyter/A419V_release9/amppd'\n",
    "cd $WORK_DIR\n",
    "\n",
    "# Remove related individuals\n",
    "/home/jupyter/plink1.9 \\\n",
    "--bfile a419v_ampd_eur \\\n",
    "--remove toRemove_1stand2ndDegree_Relateds_EUR.txt \\\n",
    "--make-bed \\\n",
    "--out a419v_ampd_eur_no_rel"
   ]
  },
  {
   "cell_type": "markdown",
   "metadata": {},
   "source": [
    "# HWE"
   ]
  },
  {
   "cell_type": "code",
   "execution_count": 11,
   "metadata": {},
   "outputs": [
    {
     "name": "stdout",
     "output_type": "stream",
     "text": [
      "PLINK v1.90b6.9 64-bit (4 Mar 2019)            www.cog-genomics.org/plink/1.9/\n",
      "(C) 2005-2019 Shaun Purcell, Christopher Chang   GNU General Public License v3\n",
      "Logging to a419v_ampd_eur_no_rel.log.\n",
      "Options in effect:\n",
      "  --bfile a419v_ampd_eur_no_rel\n",
      "  --hardy\n",
      "  --out a419v_ampd_eur_no_rel\n",
      "\n",
      "52216 MB RAM detected; reserving 26108 MB for main workspace.\n",
      "1 variant loaded from .bim file.\n",
      "8282 people (2803 males, 2283 females, 3196 ambiguous) loaded from .fam.\n",
      "Ambiguous sex IDs written to a419v_ampd_eur_no_rel.nosex .\n",
      "5086 phenotype values loaded from .fam.\n",
      "Using 1 thread (no multithreaded calculations invoked).\n",
      "Before main variant filters, 8282 founders and 0 nonfounders present.\n",
      "Calculating allele frequencies... 10111213141516171819202122232425262728293031323334353637383940414243444546474849505152535455565758596061626364656667686970717273747576777879808182838485868788899091929394959697989 done.\n",
      "--hardy: Writing Hardy-Weinberg report (founders only) to\n",
      "a419v_ampd_eur_no_rel.hwe ... 101112131415161718192021222324252627282930313233343536373839404142434445464748495051525354555657585960616263646566676869707172737475767778798081828384858687888990919293949596979899done.\n"
     ]
    }
   ],
   "source": [
    "%%bash\n",
    "WORK_DIR='/home/jupyter/A419V_release9/amppd'\n",
    "cd $WORK_DIR\n",
    "\n",
    "# Check HWE\n",
    "/home/jupyter/plink1.9 \\\n",
    "--bfile a419v_ampd_eur_no_rel \\\n",
    "--hardy \\\n",
    "--out a419v_ampd_eur_no_rel"
   ]
  },
  {
   "cell_type": "code",
   "execution_count": 12,
   "metadata": {},
   "outputs": [
    {
     "name": "stdout",
     "output_type": "stream",
     "text": [
      " CHR          SNP     TEST   A1   A2                 GENO   O(HET)   E(HET)            P \n",
      "  12   rs34594498      ALL    T    C             0/2/8280 0.0002415 0.0002415            1\n",
      "  12   rs34594498      AFF    T    C             0/0/2251        0        0            1\n",
      "  12   rs34594498    UNAFF    T    C             0/1/2834 0.0003527 0.0003527            1\n"
     ]
    }
   ],
   "source": [
    "%%bash\n",
    "WORK_DIR='/home/jupyter/A419V_release9/amppd'\n",
    "cd $WORK_DIR\n",
    "\n",
    "head a419v_ampd_eur_no_rel.hwe"
   ]
  },
  {
   "cell_type": "markdown",
   "metadata": {},
   "source": [
    " # Check AMP-PD p.A419V MAF"
   ]
  },
  {
   "cell_type": "code",
   "execution_count": 23,
   "metadata": {},
   "outputs": [
    {
     "data": {
      "text/html": [
       "<div>\n",
       "<style scoped>\n",
       "    .dataframe tbody tr th:only-of-type {\n",
       "        vertical-align: middle;\n",
       "    }\n",
       "\n",
       "    .dataframe tbody tr th {\n",
       "        vertical-align: top;\n",
       "    }\n",
       "\n",
       "    .dataframe thead th {\n",
       "        text-align: right;\n",
       "    }\n",
       "</style>\n",
       "<table border=\"1\" class=\"dataframe\">\n",
       "  <thead>\n",
       "    <tr style=\"text-align: right;\">\n",
       "      <th></th>\n",
       "      <th>Ancestry</th>\n",
       "      <th>Variant</th>\n",
       "      <th>Hom Cases</th>\n",
       "      <th>Het Cases</th>\n",
       "      <th>Hom Ref Cases</th>\n",
       "      <th>Missing Cases</th>\n",
       "      <th>Total Cases</th>\n",
       "      <th>Carrier Freq in Cases</th>\n",
       "      <th>Hom Controls</th>\n",
       "      <th>Het Controls</th>\n",
       "      <th>Hom Ref Controls</th>\n",
       "      <th>Missing Controls</th>\n",
       "      <th>Total Controls</th>\n",
       "      <th>Carrier Freq in Controls</th>\n",
       "    </tr>\n",
       "  </thead>\n",
       "  <tbody>\n",
       "    <tr>\n",
       "      <th>0</th>\n",
       "      <td>AMP_PD</td>\n",
       "      <td>rs34594498_C</td>\n",
       "      <td>2251</td>\n",
       "      <td>0</td>\n",
       "      <td>0</td>\n",
       "      <td>0</td>\n",
       "      <td>2251</td>\n",
       "      <td>1.0</td>\n",
       "      <td>2834</td>\n",
       "      <td>1</td>\n",
       "      <td>0</td>\n",
       "      <td>0</td>\n",
       "      <td>2835</td>\n",
       "      <td>0.999824</td>\n",
       "    </tr>\n",
       "  </tbody>\n",
       "</table>\n",
       "</div>"
      ],
      "text/plain": [
       "  Ancestry       Variant  Hom Cases  Het Cases  Hom Ref Cases  Missing Cases  \\\n",
       "0   AMP_PD  rs34594498_C       2251          0              0              0   \n",
       "\n",
       "   Total Cases  Carrier Freq in Cases  Hom Controls  Het Controls  \\\n",
       "0         2251                    1.0          2834             1   \n",
       "\n",
       "   Hom Ref Controls  Missing Controls  Total Controls  \\\n",
       "0                 0                 0            2835   \n",
       "\n",
       "   Carrier Freq in Controls  \n",
       "0                  0.999824  "
      ]
     },
     "execution_count": 23,
     "metadata": {},
     "output_type": "execute_result"
    }
   ],
   "source": [
    "variant = \"rs34594498_C\"\n",
    "results = []\n",
    "label = \"AMP_PD\"\n",
    "recode  = pd.read_csv(f\"{WORK_DIR}/a419v_ampd_eur_no_rel.raw\", delim_whitespace = True)\n",
    "\n",
    "cases_data = recode[recode['PHENOTYPE'] == 2]\n",
    "controls_data = recode[recode['PHENOTYPE'] == 1]\n",
    "total_cases = cases_data.shape[0]\n",
    "total_controls = controls_data.shape[0]\n",
    "    \n",
    "# Cases\n",
    "hom_cases = (cases_data[variant] == 2).sum()\n",
    "het_cases = (cases_data[variant] == 1).sum()\n",
    "hom_ref_cases = (cases_data[variant] == 0).sum()\n",
    "missing_cases = total_cases - (hom_cases + het_cases + hom_ref_cases)\n",
    "freq_cases = (2 * hom_cases + het_cases) / (2 * (total_cases - missing_cases)) if (total_cases - missing_cases) > 0 else None\n",
    "\n",
    "# Controls\n",
    "hom_controls = (controls_data[variant] == 2).sum()\n",
    "het_controls = (controls_data[variant] == 1).sum()\n",
    "hom_ref_controls = (controls_data[variant] == 0).sum()\n",
    "missing_controls = total_controls - (hom_controls + het_controls + hom_ref_controls)\n",
    "freq_controls = (2 * hom_controls + het_controls) / (2 * (total_controls - missing_controls)) if (total_controls - missing_controls) > 0 else None\n",
    "    \n",
    "# Collect results\n",
    "results.append({\n",
    "        'Ancestry': label,\n",
    "        'Variant': variant,\n",
    "        'Hom Cases': hom_cases,\n",
    "        'Het Cases': het_cases,\n",
    "        'Hom Ref Cases': hom_ref_cases,\n",
    "        'Missing Cases': missing_cases,\n",
    "        'Total Cases': total_cases,\n",
    "        'Carrier Freq in Cases': freq_cases,\n",
    "        'Hom Controls': hom_controls,\n",
    "        'Het Controls': het_controls,\n",
    "        'Hom Ref Controls': hom_ref_controls,\n",
    "        'Missing Controls': missing_controls,\n",
    "        'Total Controls': total_controls,\n",
    "        'Carrier Freq in Controls': freq_controls\n",
    "    })\n",
    "\n",
    "# Convert to DataFrame\n",
    "df_results = pd.DataFrame(results)\n",
    "df_results"
   ]
  },
  {
   "cell_type": "markdown",
   "metadata": {},
   "source": [
    "The variant only found in one control, further association study is not being done "
   ]
  }
 ],
 "metadata": {
  "kernelspec": {
   "display_name": "Python 3",
   "language": "python",
   "name": "python3"
  },
  "language_info": {
   "codemirror_mode": {
    "name": "ipython",
    "version": 3
   },
   "file_extension": ".py",
   "mimetype": "text/x-python",
   "name": "python",
   "nbconvert_exporter": "python",
   "pygments_lexer": "ipython3",
   "version": "3.10.12"
  },
  "toc": {
   "base_numbering": 1,
   "nav_menu": {},
   "number_sections": true,
   "sideBar": true,
   "skip_h1_title": false,
   "title_cell": "Table of Contents",
   "title_sidebar": "Contents",
   "toc_cell": false,
   "toc_position": {
    "height": "calc(100% - 180px)",
    "left": "10px",
    "top": "150px",
    "width": "244.594px"
   },
   "toc_section_display": true,
   "toc_window_display": false
  }
 },
 "nbformat": 4,
 "nbformat_minor": 2
}
