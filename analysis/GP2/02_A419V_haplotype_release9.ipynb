{
 "cells": [
  {
   "cell_type": "markdown",
   "metadata": {},
   "source": [
    "# LRRK2 p.A419V - Haplotype analysis "
   ]
  },
  {
   "cell_type": "markdown",
   "metadata": {},
   "source": [
    "- Project: Multiancestry LRRK2 p.A419V analysis\n",
    "- Version: Python/3.10.12\n",
    "- Created: 05-MAY-2025\n",
    "- Last Update: 12-JUNE-2025"
   ]
  },
  {
   "cell_type": "markdown",
   "metadata": {},
   "source": [
    "# Description\n",
    "\n",
    "**1. Haplotype block size comparison**\n",
    "\n",
    "**2. Haplotype association study**\n",
    "\n",
    "**3. R2 calculation**"
   ]
  },
  {
   "cell_type": "markdown",
   "metadata": {},
   "source": [
    "# Getting started"
   ]
  },
  {
   "cell_type": "markdown",
   "metadata": {},
   "source": [
    "## Load python libraries"
   ]
  },
  {
   "cell_type": "code",
   "execution_count": null,
   "metadata": {},
   "outputs": [],
   "source": [
    "# Import necessary packages\n",
    "import os\n",
    "import pandas as pd\n",
    "import numpy as np\n",
    "from io import StringIO\n",
    "from firecloud import api as fapi\n",
    "from IPython.core.display import display, HTML\n",
    "import urllib.parse\n",
    "from google.cloud import bigquery\n",
    "import sys as sys\n",
    "\n",
    "# Define function\n",
    "# Utility routine for printing a shell command before executing it\n",
    "def shell_do(command):\n",
    "    print(f'Executing: {command}', file=sys.stderr)\n",
    "    !$command\n",
    "    \n",
    "def shell_return(command):\n",
    "    print(f'Executing: {command}', file=sys.stderr)\n",
    "    output = !$command\n",
    "    return '\\n'.join(output)"
   ]
  },
  {
   "cell_type": "markdown",
   "metadata": {},
   "source": [
    "## Install R and its packages"
   ]
  },
  {
   "cell_type": "code",
   "execution_count": null,
   "metadata": {},
   "outputs": [],
   "source": [
    "%%bash\n",
    "mkdir -p /home/jupyter/A419V_release9/R_packages"
   ]
  },
  {
   "cell_type": "code",
   "execution_count": null,
   "metadata": {},
   "outputs": [],
   "source": [
    "# Install and import rpy2\n",
    "!pip install rpy2\n",
    "import rpy2.rinterface"
   ]
  },
  {
   "cell_type": "code",
   "execution_count": null,
   "metadata": {},
   "outputs": [],
   "source": [
    "%load_ext rpy2.ipython"
   ]
  },
  {
   "cell_type": "code",
   "execution_count": null,
   "metadata": {},
   "outputs": [],
   "source": [
    "%%R\n",
    "\n",
    "BILLING_PROJECT_ID  <- Sys.getenv('GOOGLE_PROJECT')\n",
    "WORKSPACE_NAMESPACE <- Sys.getenv('WORKSPACE_NAMESPACE')\n",
    "WORKSPACE_NAME      <- Sys.getenv('WORKSPACE_NAME')"
   ]
  },
  {
   "cell_type": "code",
   "execution_count": null,
   "metadata": {},
   "outputs": [],
   "source": [
    "%%R\n",
    "pack <- \"/home/jupyter/A419V_release9/R_packages\"\n",
    "\n",
    "install.packages(\"dplyr\", lib = pack)\n",
    "install.packages(\"data.table\", lib = pack)\n",
    "install.packages(\"arsenal\", lib = pack)\n",
    "install.packages(\"haplo.stats\", lib = pack)"
   ]
  },
  {
   "cell_type": "code",
   "execution_count": null,
   "metadata": {},
   "outputs": [],
   "source": [
    "%%R\n",
    "pack <- \"/home/jupyter/A419V_release9/R_packages\"\n",
    "\n",
    "suppressPackageStartupMessages(library(dplyr, lib.loc = pack))\n",
    "suppressPackageStartupMessages(library(data.table, lib.loc = pack))\n",
    "suppressPackageStartupMessages(library(arsenal, lib.loc = pack))\n",
    "suppressPackageStartupMessages(library(haplo.stats, lib.loc = pack))"
   ]
  },
  {
   "cell_type": "markdown",
   "metadata": {},
   "source": [
    "# File preparation"
   ]
  },
  {
   "cell_type": "code",
   "execution_count": null,
   "metadata": {},
   "outputs": [],
   "source": [
    "%%bash\n",
    "WORK_DIR=/home/jupyter/A419V_release9\n",
    "cd $WORK_DIR\n",
    "\n",
    "ancestry_labels=('AAC' 'AFR' 'AJ' 'AMR' 'CAH' 'CAS' 'EAS' 'EUR' 'FIN' 'MDE' 'SAS')\n",
    "\n",
    "for label in \"${ancestry_labels[@]}\"\n",
    "do\n",
    "\n",
    "    # Extracting LRRK2\n",
    "    /home/jupyter/plink1.9 \\\n",
    "    --bfile ${label}/${label}_release9_remove_related_updated \\\n",
    "    --chr 12 \\\n",
    "    --from-bp 40196744 \\\n",
    "    --to-bp 40369285 \\\n",
    "    --missing \\\n",
    "    --make-bed \\\n",
    "    --out ${label}/${label}_release9_remove_related_lrrk2\n",
    "    \n",
    "done"
   ]
  },
  {
   "cell_type": "code",
   "execution_count": null,
   "metadata": {},
   "outputs": [],
   "source": [
    "ancestry_labels=['AAC', 'AFR', 'AJ', 'AMR', 'CAH', 'CAS', 'EAS', 'EUR', 'FIN', 'MDE', 'SAS']\n",
    "\n",
    "for anc in ancestry_labels:\n",
    "    \n",
    "    bim = pd.read_csv(f\"/home/jupyter/A419V_release9/{anc}/{anc}_release9_remove_related_lrrk2.bim\", \n",
    "                      sep = \"\\t\", names = [\"CHR\", \"RSID\", \"POS\", \"BP\", \"A1\", \"A2\"])\n",
    "    bim[\"CHR\"] = bim[\"CHR\"].astype(str)\n",
    "    bim[\"BP\"] = bim[\"BP\"].astype(str)\n",
    "    bim[\"RSID\"] = bim[\"CHR\"].str.cat(bim[\"BP\"], sep = \"_\")\n",
    "    bim[\"RSID\"] = bim[\"RSID\"].str.cat(bim[\"A2\"], sep = \"_\")\n",
    "    bim[\"RSID\"] = bim[\"RSID\"].str.cat(bim[\"A1\"], sep = \"_\")\n",
    "    \n",
    "    bim.to_csv(f\"/home/jupyter/A419V_release9/{anc}/{anc}_release9_remove_related_lrrk2.bim\", \n",
    "               sep = \"\\t\", index = False, header = False)"
   ]
  },
  {
   "cell_type": "code",
   "execution_count": null,
   "metadata": {},
   "outputs": [],
   "source": [
    "%%bash\n",
    "WORK_DIR=/home/jupyter/A419V_release9\n",
    "cd $WORK_DIR\n",
    "\n",
    "# Remove duplicate\n",
    "ancestry_labels=('AAC' 'AFR' 'AJ' 'AMR' 'CAH' 'CAS' 'EAS' 'EUR' 'FIN' 'MDE' 'SAS')\n",
    "\n",
    "for label in \"${ancestry_labels[@]}\"\n",
    "do\n",
    "\n",
    "    /home/jupyter/plink2 \\\n",
    "    --bfile ${label}/${label}_release9_remove_related_lrrk2 \\\n",
    "    --rm-dup force-first \\\n",
    "    --make-bed \\\n",
    "    --out ${label}/${label}_release9_remove_related_lrrk2_nodup\n",
    "    \n",
    "done"
   ]
  },
  {
   "cell_type": "markdown",
   "metadata": {},
   "source": [
    "# Haplotype block size comparison"
   ]
  },
  {
   "cell_type": "code",
   "execution_count": null,
   "metadata": {},
   "outputs": [],
   "source": [
    "%%bash\n",
    "WORK_DIR=/home/jupyter/A419V_release9\n",
    "cd $WORK_DIR\n",
    "\n",
    "ancestry_labels=('AJ' 'CAH' 'CAS' 'EAS' 'EUR')\n",
    "\n",
    "for label in \"${ancestry_labels[@]}\"\n",
    "do\n",
    "\n",
    "    /home/jupyter/plink1.9 \\\n",
    "    --bfile ${label}/${label}_release9_remove_related_lrrk2_nodup \\\n",
    "    --blocks \\\n",
    "    --blocks-min-maf 0.0001 \\\n",
    "    --out ${label}/${label}_release9_remove_related_lrrk2.blocks\n",
    "\n",
    "done"
   ]
  },
  {
   "cell_type": "code",
   "execution_count": null,
   "metadata": {},
   "outputs": [],
   "source": [
    "%%R\n",
    "\n",
    "# Create a table contain the location of A419V\n",
    "a419v_loci <- data.table(\n",
    "    SNP = \"A419V\" ,\n",
    "    CHR = 12 ,   \n",
    "    BP  = 40252984)"
   ]
  },
  {
   "cell_type": "code",
   "execution_count": null,
   "metadata": {
    "scrolled": true
   },
   "outputs": [],
   "source": [
    "%%R\n",
    "\n",
    "# Initialize an empty table\n",
    "ALLhap <- data.table()\n",
    "\n",
    "ALLhap$ancestry <- NA\n",
    "ALLhap$KB       <- NA\n",
    "ALLhap$NSNPS    <- NA\n",
    "ALLhap$SNPS     <- NA\n",
    "\n",
    "# Extract info from the loci table into variables\n",
    "thisSnp <- a419v_loci$SNP[1]\n",
    "thisChr <- a419v_loci$CHR[1]\n",
    "thisBp  <- a419v_loci$BP[1]\n",
    "\n",
    "ancestry_labels <- c('AJ', 'CAH', 'CAS', 'EAS', 'EUR')\n",
    "\n",
    "for (anc in ancestry_labels){\n",
    "    \n",
    "    hap     <- fread(paste0(\"/home/jupyter/A419V_release9/\", anc, \"/\", anc, \"_release9_remove_related_lrrk2.blocks.blocks.det\"), header =T)\n",
    "    hap_sub <- subset(hap, CHR == thisChr & BP1 <= thisBp & BP2 >= thisBp)\n",
    "    \n",
    "    if(length(hap_sub$KB) > 0) {\n",
    "    \n",
    "        tmp <- data.table(\n",
    "            \n",
    "            ancestry = anc,\n",
    "            KB       = hap_sub$KB,\n",
    "            NSNPS    = hap_sub$NSNPS,\n",
    "            SNPS     = hap_sub$SNPS\n",
    "        )\n",
    "        \n",
    "        ALLhap <- rbind(ALLhap, tmp)\n",
    "    \n",
    "    } \n",
    "}\n",
    "\n",
    "ALLhap"
   ]
  },
  {
   "cell_type": "markdown",
   "metadata": {},
   "source": [
    "# Haplotype Association study"
   ]
  },
  {
   "cell_type": "markdown",
   "metadata": {},
   "source": [
    "## Haplotype frequency comparison"
   ]
  },
  {
   "cell_type": "code",
   "execution_count": null,
   "metadata": {},
   "outputs": [],
   "source": [
    "%%bash\n",
    "WORK_DIR=/home/jupyter/A419V_release9\n",
    "cd $WORK_DIR\n",
    "\n",
    "ancestry_labels=('AJ' 'CAH' 'CAS' 'EAS' 'EUR')\n",
    "\n",
    "for label in \"${ancestry_labels[@]}\"\n",
    "do\n",
    "\n",
    "    /home/jupyter/plink1.9 \\\n",
    "    --bfile ${label}/${label}_release9_remove_related_lrrk2_nodup \\\n",
    "    --recode \\\n",
    "    --out ${label}/${label}_release9_remove_related_lrrk2_nodup\n",
    "\n",
    "done"
   ]
  },
  {
   "cell_type": "code",
   "execution_count": null,
   "metadata": {},
   "outputs": [],
   "source": [
    "%%R\n",
    "\n",
    "ancestry_labels <- c('AJ', 'CAH', 'CAS', 'EAS', 'EUR')\n",
    "\n",
    "for (anc in ancestry_labels){\n",
    "    \n",
    "    # Read PED file\n",
    "    PED <- fread(paste0(\"/home/jupyter/A419V_release9/\", anc, \"/\", anc, \"_release9_remove_related_lrrk2_nodup.ped\"))\n",
    "\n",
    "    # Get Allele name\n",
    "    FILTERED.LRRK2_1 <- read.table(paste0(\"/home/jupyter/A419V_release9/\", anc, \"/\", anc, \"_release9_remove_related_lrrk2_nodup.map\"), header=FALSE)\n",
    "    FILTERED.LRRK2_2 <- read.table(paste0(\"/home/jupyter/A419V_release9/\", anc, \"/\", anc, \"_release9_remove_related_lrrk2_nodup.map\"), header=FALSE)\n",
    "    FILTERED.LRRK2_1$V2 <- paste0(FILTERED.LRRK2_1$V2, sep=\"_\", \"1\")\n",
    "    FILTERED.LRRK2_2$V2 <- paste0(FILTERED.LRRK2_2$V2, sep=\"_\", \"2\")\n",
    "\n",
    "    # Set column names\n",
    "    colnames(FILTERED.LRRK2_1) <- c(\"CHR\", \"SNP\", \"CM\", \"POS\")\n",
    "    colnames(FILTERED.LRRK2_2) <- c(\"CHR\", \"SNP\", \"CM\", \"POS\")\n",
    "    FILTERED.LRRK2_2alleles    <- rbind(FILTERED.LRRK2_1, FILTERED.LRRK2_2)\n",
    "\n",
    "    # Sort file and create geno matrix:\n",
    "    # The variants should appear in order of genomic postition in the ped file, therefore, we sort the alleles based on position\n",
    "    LRRK2_pos     <- FILTERED.LRRK2_2alleles[order(FILTERED.LRRK2_2alleles$POS),]\n",
    "    LRRK2_alleles <- LRRK2_pos[,c(\"SNP\")]\n",
    "    write.table(LRRK2_alleles, file = paste0(\"/home/jupyter/A419V_release9/\", anc, \"/\", anc, \"_LRRK2_alleles.txt\"), quote = F, sep = \"\\t\", row.names = F, col.names = F)\n",
    "\n",
    "    # Add allele names to the PED file\n",
    "    colnames(PED) <- c(\"FID\", \"IID\", \"PAT\",\"MAT\", \"SEX\", \"PHENO\", LRRK2_alleles)\n",
    "    write.table(as.data.frame(PED), file = paste0(\"/home/jupyter/A419V_release9/\", anc, \"/\", anc, \"_geno_matrix_LRRK2.txt\"), quote = F, row.names = FALSE, sep = '\\t')\n",
    "\n",
    "}"
   ]
  },
  {
   "cell_type": "markdown",
   "metadata": {},
   "source": [
    "### EAS"
   ]
  },
  {
   "cell_type": "code",
   "execution_count": null,
   "metadata": {},
   "outputs": [],
   "source": [
    "%%bash\n",
    "WORK_DIR=\"/home/jupyter/A419V_release9/\"\n",
    "cd $WORK_DIR\n",
    "\n",
    "label=\"EAS\"\n",
    "\n",
    "grep 40252984 ${label}/${label}_release9_remove_related_lrrk2.blocks.blocks | sed 's/ /|/g' | sed -r 's/^.{2}//'"
   ]
  },
  {
   "cell_type": "code",
   "execution_count": null,
   "metadata": {},
   "outputs": [],
   "source": [
    "%%R\n",
    "\n",
    "anc <- \"EAS\"\n",
    "\n",
    "Geno_matrix_LRRK2 <- read.delim(paste0(\"/home/jupyter/A419V_release9/\", anc, \"/\", anc, \"_geno_matrix_LRRK2.txt\"), check.names = FALSE)\n",
    "\n",
    "#Colnames:\n",
    "LRRK2_alleles <- read.table(paste0(\"/home/jupyter/A419V_release9/\", anc, \"/\", anc, \"_LRRK2_alleles.txt\"), quote=\"\\\"\", comment.char=\"\")\n",
    "H1_a          <- LRRK2_alleles[grepl(\"12_40238792_G_A|12_40239262_G_A|12_40239512_A_G|12_40240543_G_A|12_40249666_G_A|12_40251369_G_A|12_40251495_G_A|12_40251828_G_A|12_40252984_G_A\", LRRK2_alleles$V1), ]\n",
    "H1_LRRK2      <- Geno_matrix_LRRK2[,c(\"FID\", \"IID\", \"PAT\", \"MAT\", \"SEX\", \"PHENO\", H1_a)]"
   ]
  },
  {
   "cell_type": "code",
   "execution_count": null,
   "metadata": {},
   "outputs": [],
   "source": [
    "%%R\n",
    "ncol(H1_LRRK2)"
   ]
  },
  {
   "cell_type": "code",
   "execution_count": null,
   "metadata": {},
   "outputs": [],
   "source": [
    "%%R\n",
    "ncol(H1_LRRK2)\n",
    "anc <- \"EAS\"\n",
    "\n",
    "#Extract only genotype data:\n",
    "geno          <- data.frame(H1_LRRK2[,c(7:24)], check.names = FALSE)\n",
    "\n",
    "#Set variables for running the association analyses in haplo.stats\n",
    "#Label the SNPs: \"12_40252984_G_A\"\n",
    "\n",
    "# Get the column name of the haplotype\n",
    "label <- colnames(H1_LRRK2)[7:24] %>% gsub(\"_.{1}$\", \"\", .) %>% unique()\n",
    "\n",
    "#Set binary pheno (0=control, 1=patient):\n",
    "H1_LRRK2$PHENO_01 <- H1_LRRK2$PHENO-1\n",
    "y.bin <- 1*(H1_LRRK2$PHENO_01==\"1\")"
   ]
  },
  {
   "cell_type": "code",
   "execution_count": null,
   "metadata": {},
   "outputs": [],
   "source": [
    "%%R\n",
    "\n",
    "#Non-adjusted:\n",
    "H1 <- haplo.cc(y=y.bin, geno=geno, locus.label= label, control = haplo.glm.control(haplo.freq.min = 0.01))\n",
    "print(H1, nlines=10, digits=2)\n",
    "\n",
    "#Sort the output on p-value:\n",
    "H1_cc.df <- H1$cc.df\n",
    "H1_cc.df_sort <- H1_cc.df[order(H1_cc.df$`p-val`),]"
   ]
  },
  {
   "cell_type": "code",
   "execution_count": null,
   "metadata": {},
   "outputs": [],
   "source": [
    "%%R\n",
    "\n",
    "library(knitr)\n",
    "\n",
    "H1_cc.df_sort %>% kable()"
   ]
  },
  {
   "cell_type": "markdown",
   "metadata": {},
   "source": [
    "#### Visualise the block"
   ]
  },
  {
   "cell_type": "code",
   "execution_count": null,
   "metadata": {},
   "outputs": [],
   "source": [
    "with open(\"/home/jupyter/A419V_release9/EAS/EAS_hap_extract.txt\", \"w\") as f:\n",
    "    f.write(\"12_40238792_G_A\\n12_40239262_G_A\\n12_40239512_A_G\\n12_40240543_G_A\\n12_40249666_G_A\\n12_40251369_G_A\\n12_40251495_G_A\\n12_40251828_G_A\\n12_40252984_G_A\")"
   ]
  },
  {
   "cell_type": "code",
   "execution_count": null,
   "metadata": {},
   "outputs": [],
   "source": [
    "%%bash\n",
    "WORK_DIR=/home/jupyter/A419V_release9\n",
    "cd $WORK_DIR\n",
    "\n",
    "label=\"EAS\"\n",
    "\n",
    "/home/jupyter/plink1.9 \\\n",
    "--bfile ${label}/${label}_release9_remove_related_lrrk2_nodup \\\n",
    "--extract ${label}/${label}_hap_extract.txt \\\n",
    "--snps-only just-acgt \\\n",
    "--recode HV \\\n",
    "--out ${label}/${label}_release9_remove_related_lrrk2_nodup"
   ]
  },
  {
   "cell_type": "code",
   "execution_count": null,
   "metadata": {},
   "outputs": [],
   "source": [
    "%%bash\n",
    "WORK_DIR=/home/jupyter/A419V_release9\n",
    "cd $WORK_DIR\n",
    "\n",
    "\n",
    "ls EAS/EAS_release9_remove_related_lrrk2_nodup.chr*"
   ]
  },
  {
   "cell_type": "code",
   "execution_count": null,
   "metadata": {},
   "outputs": [],
   "source": [
    "WORK_DIR=\"/home/jupyter/A419V_release9\"\n",
    "shell_do(f'gsutil -u {BILLING_PROJECT_ID} -m cp {WORK_DIR}/EAS/EAS_release9_remove_related_lrrk2_nodup.chr-12.* {WORKSPACE_BUCKET}/A419V_analysis/release9/haplotype/EAS/')"
   ]
  },
  {
   "cell_type": "markdown",
   "metadata": {},
   "source": [
    "### EUR"
   ]
  },
  {
   "cell_type": "code",
   "execution_count": null,
   "metadata": {},
   "outputs": [],
   "source": [
    "%%bash\n",
    "WORK_DIR=\"/home/jupyter/A419V_release9/\"\n",
    "cd $WORK_DIR\n",
    "\n",
    "label=\"EUR\"\n",
    "\n",
    "cat ${label}/${label}_release9_remove_related_lrrk2.blocks.blocks"
   ]
  },
  {
   "cell_type": "code",
   "execution_count": null,
   "metadata": {},
   "outputs": [],
   "source": [
    "%%bash\n",
    "WORK_DIR=\"/home/jupyter/A419V_release9/\"\n",
    "cd $WORK_DIR\n",
    "\n",
    "label=\"EUR\"\n",
    "\n",
    "grep 40252984 ${label}/${label}_release9_remove_related_lrrk2.blocks.blocks | sed 's/ /|/g' | sed -r 's/^.{2}//'"
   ]
  },
  {
   "cell_type": "markdown",
   "metadata": {},
   "source": [
    "No block contain p.A419V, checking for missingness"
   ]
  },
  {
   "cell_type": "code",
   "execution_count": null,
   "metadata": {},
   "outputs": [],
   "source": [
    "%%bash\n",
    "WORK_DIR=/home/jupyter/A419V_release9\n",
    "cd $WORK_DIR\n",
    "\n",
    "ancestry_labels=('EUR')\n",
    "\n",
    "for label in \"${ancestry_labels[@]}\"\n",
    "do\n",
    "\n",
    "    /home/jupyter/plink1.9 \\\n",
    "    --bfile ${label}/${label}_release9_remove_related_lrrk2_nodup \\\n",
    "    --missing \\\n",
    "    --out ${label}/${label}_release9_remove_related_lrrk2.blocks_test\n",
    "\n",
    "done"
   ]
  },
  {
   "cell_type": "code",
   "execution_count": null,
   "metadata": {},
   "outputs": [],
   "source": [
    "%%bash\n",
    "WORK_DIR=/home/jupyter/A419V_release9\n",
    "cd $WORK_DIR\n",
    "\n",
    "head -1 EUR/EUR_release9_remove_related_lrrk2.blocks_test.lmiss\n",
    "grep 40252984 EUR/EUR_release9_remove_related_lrrk2.blocks_test.lmiss"
   ]
  },
  {
   "cell_type": "markdown",
   "metadata": {},
   "source": [
    "### AJ"
   ]
  },
  {
   "cell_type": "code",
   "execution_count": null,
   "metadata": {},
   "outputs": [],
   "source": [
    "%%bash\n",
    "WORK_DIR=\"/home/jupyter/A419V_release9/\"\n",
    "cd $WORK_DIR\n",
    "\n",
    "label=\"AJ\"\n",
    "\n",
    "grep 40252984 ${label}/${label}_release9_remove_related_lrrk2.blocks.blocks | sed 's/ /|/g' | sed -r 's/^.{2}//'"
   ]
  },
  {
   "cell_type": "code",
   "execution_count": null,
   "metadata": {},
   "outputs": [],
   "source": [
    "%%bash\n",
    "WORK_DIR=\"/home/jupyter/A419V_release9/\"\n",
    "cd $WORK_DIR\n",
    "\n",
    "label=\"AJ\"\n",
    "\n",
    "cat ${label}/${label}_release9_remove_related_lrrk2.blocks.blocks"
   ]
  },
  {
   "cell_type": "markdown",
   "metadata": {},
   "source": [
    "No block contain p.A419V"
   ]
  },
  {
   "cell_type": "markdown",
   "metadata": {},
   "source": [
    "### CAH"
   ]
  },
  {
   "cell_type": "code",
   "execution_count": null,
   "metadata": {},
   "outputs": [],
   "source": [
    "%%bash\n",
    "WORK_DIR=\"/home/jupyter/A419V_release9/\"\n",
    "cd $WORK_DIR\n",
    "\n",
    "label=\"CAH\"\n",
    "\n",
    "grep 40252984 ${label}/${label}_release9_remove_related_lrrk2.blocks.blocks | sed 's/ /|/g' | sed -r 's/^.{2}//'"
   ]
  },
  {
   "cell_type": "code",
   "execution_count": null,
   "metadata": {},
   "outputs": [],
   "source": [
    "%%bash\n",
    "WORK_DIR=\"/home/jupyter/A419V_release9/\"\n",
    "cd $WORK_DIR\n",
    "\n",
    "label=\"CAH\"\n",
    "\n",
    "cat ${label}/${label}_release9_remove_related_lrrk2.blocks.blocks"
   ]
  },
  {
   "cell_type": "markdown",
   "metadata": {},
   "source": [
    "### CAS"
   ]
  },
  {
   "cell_type": "code",
   "execution_count": null,
   "metadata": {},
   "outputs": [],
   "source": [
    "%%bash\n",
    "WORK_DIR=\"/home/jupyter/A419V_release9/\"\n",
    "cd $WORK_DIR\n",
    "\n",
    "label=\"CAS\"\n",
    "\n",
    "grep 40252984 ${label}/${label}_release9_remove_related_lrrk2.blocks.blocks | sed 's/ /|/g' | sed -r 's/^.{2}//'"
   ]
  },
  {
   "cell_type": "markdown",
   "metadata": {},
   "source": [
    "# Calculate R2"
   ]
  },
  {
   "cell_type": "markdown",
   "metadata": {},
   "source": [
    "## Imputed coding variants and GWAS nominated variants"
   ]
  },
  {
   "cell_type": "markdown",
   "metadata": {},
   "source": [
    "1. Within LRRK2\n",
    "- p.R1628P (40320043)\n",
    "- rs76904798 (40220632) (Nalls 2019)\n",
    "- rs17443414 (40250950), rs7132187 (40351006) (Multi-ancestry)\n",
    "\n",
    "2. Within chr12, LRRK2 loci\n",
    "- rs1994090 (40034759) (Japanese GWAS)\n",
    "- rs17443099 (40179612), rs28370650 (40006146) (Hampton)\n",
    "- rs190807041 (40379882) (multi-anc)\n",
    "- rs1384236(40064582), rs7315459 (40071984) (Foo et al 2017)"
   ]
  },
  {
   "cell_type": "code",
   "execution_count": null,
   "metadata": {},
   "outputs": [],
   "source": [
    "%%bash\n",
    "WORK_DIR=/home/jupyter/A419V_release9\n",
    "cd $WORK_DIR\n",
    "\n",
    "ancestry_labels=('AJ' 'CAH' 'CAS' 'EAS' 'EUR')\n",
    "\n",
    "for label in \"${ancestry_labels[@]}\"\n",
    "do\n",
    "\n",
    "    grep \"40320043\\|40220632\\|40250950\\|40351006\" ${label}/chr12_${label}_release9.pvar | awk '{print $3}' > ${label}/${label}_within_lrrk2_snps.txt\n",
    "    grep \"40034759\\|40179612\\|40006146\\|40379882\\|40064582\\|40071984\" ${label}/chr12_${label}_release9.pvar | awk '{print $3}' > ${label}/${label}_within_chr12_snps.txt\n",
    "    \n",
    "done"
   ]
  },
  {
   "cell_type": "code",
   "execution_count": null,
   "metadata": {},
   "outputs": [],
   "source": [
    "%%bash\n",
    "WORK_DIR=/home/jupyter/A419V_release9\n",
    "cd $WORK_DIR\n",
    "\n",
    "ancestry_labels=('AJ' 'CAH' 'CAS' 'EAS' 'EUR')\n",
    "\n",
    "for label in \"${ancestry_labels[@]}\"\n",
    "do\n",
    "\n",
    "    cat ${label}/${label}_within_lrrk2_snps.txt ${label}/${label}_within_chr12_snps.txt  > ${label}/${label}_all_snps.txt\n",
    "    \n",
    "    # Add A419V to the list as well\n",
    "    echo \"chr12:40252984:C:T\" >> ${label}/${label}_all_snps.txt\n",
    "\n",
    "done"
   ]
  },
  {
   "cell_type": "code",
   "execution_count": null,
   "metadata": {},
   "outputs": [],
   "source": [
    "%%bash\n",
    "WORK_DIR=/home/jupyter/A419V_release9\n",
    "cd $WORK_DIR\n",
    "\n",
    "ancestry_labels=('AJ' 'CAH' 'CAS' 'EAS' 'EUR')\n",
    "\n",
    "for label in \"${ancestry_labels[@]}\"\n",
    "do\n",
    "\n",
    "    /home/jupyter/plink2 \\\n",
    "    --pfile ${label}/chr12_${label}_release9 \\\n",
    "    --extract ${label}/${label}_all_snps.txt \\\n",
    "    --remove ${label}/${label}_related_ids.samples \\\n",
    "    --make-bed \\\n",
    "    --out ${label}/chr12_${label}_release9_remove_related_extracted\n",
    "    \n",
    "done"
   ]
  },
  {
   "cell_type": "code",
   "execution_count": null,
   "metadata": {},
   "outputs": [],
   "source": [
    "%%bash\n",
    "WORK_DIR=/home/jupyter/A419V_release9\n",
    "cd $WORK_DIR\n",
    "\n",
    "ancestry_labels=('AJ' 'CAH' 'CAS' 'EAS' 'EUR')\n",
    "\n",
    "for label in \"${ancestry_labels[@]}\"\n",
    "do\n",
    "    \n",
    "    wc -l ${label}/chr12_${label}_release9_remove_related_extracted.bim\n",
    "    \n",
    "done"
   ]
  },
  {
   "cell_type": "code",
   "execution_count": null,
   "metadata": {},
   "outputs": [],
   "source": [
    "%%bash\n",
    "WORK_DIR=/home/jupyter/A419V_release9\n",
    "cd $WORK_DIR\n",
    "\n",
    "ancestry_labels=('AJ' 'CAH' 'CAS' 'EAS' 'EUR')\n",
    "\n",
    "for label in \"${ancestry_labels[@]}\"\n",
    "do\n",
    "\n",
    "    /home/jupyter/plink1.9 \\\n",
    "    --bfile ${label}/chr12_${label}_release9_remove_related_extracted \\\n",
    "    --ld-snp \"chr12:40252984:C:T\" \\\n",
    "    --r2 \\\n",
    "    --ld-window 99999 \\\n",
    "    --ld-window-kb 10000000 \\\n",
    "    --ld-window-r2 0 \\\n",
    "    --out ${label}/chr12_${label}_release9_remove_related_extracted_r2\n",
    "    \n",
    "done"
   ]
  },
  {
   "cell_type": "code",
   "execution_count": null,
   "metadata": {},
   "outputs": [],
   "source": [
    "WORK_DIR=\"/home/jupyter/A419V_release9\"\n",
    "\n",
    "df = pd.DataFrame({\"SNP_B\":\"\"}, index = [0])\n",
    "\n",
    "labels=['AJ', 'CAH', 'CAS', 'EAS', 'EUR']\n",
    "\n",
    "for label in labels:\n",
    "    \n",
    "    ld = pd.read_csv(f\"{WORK_DIR}/{label}/chr12_{label}_release9_remove_related_extracted_r2.ld\", delim_whitespace = True)\n",
    "    ld_red = ld[[\"SNP_B\", \"R2\"]]\n",
    "    ld_red.rename(columns = {\"R2\":f\"R2_{label}\"}, inplace = True)\n",
    "\n",
    "    df = pd.merge(df, ld_red, on = \"SNP_B\", how = \"outer\")\n",
    "\n",
    "df"
   ]
  },
  {
   "cell_type": "markdown",
   "metadata": {},
   "source": [
    "## Other coding variants"
   ]
  },
  {
   "cell_type": "code",
   "execution_count": null,
   "metadata": {},
   "outputs": [],
   "source": [
    "%%bash\n",
    "WORK_DIR=/home/jupyter/A419V_release9\n",
    "cd $WORK_DIR\n",
    "\n",
    "ancestry_labels=('AJ' 'CAH' 'CAS' 'EAS' 'EUR')\n",
    "\n",
    "for label in \"${ancestry_labels[@]}\"\n",
    "do\n",
    "\n",
    "    wc -l ${label}/${label}_release9_remove_related_lrrk2_nodup_exon.bim\n",
    "    \n",
    "done"
   ]
  },
  {
   "cell_type": "code",
   "execution_count": null,
   "metadata": {},
   "outputs": [],
   "source": [
    "%%bash\n",
    "WORK_DIR=/home/jupyter/A419V_release9\n",
    "cd $WORK_DIR\n",
    "\n",
    "ancestry_labels=('AJ' 'CAH' 'CAS' 'EAS' 'EUR')\n",
    "\n",
    "for label in \"${ancestry_labels[@]}\"\n",
    "do\n",
    "\n",
    "    /home/jupyter/plink1.9 \\\n",
    "    --bfile ${label}/${label}_release9_remove_related_lrrk2_nodup_exon \\\n",
    "    --ld-snp \"12_40252984_G_A\" \\\n",
    "    --r2 \\\n",
    "    --ld-window 99999 \\\n",
    "    --ld-window-kb 10000000 \\\n",
    "    --ld-window-r2 0 \\\n",
    "    --out ${label}/${label}_a419v_r2\n",
    "    \n",
    "done"
   ]
  },
  {
   "cell_type": "code",
   "execution_count": null,
   "metadata": {},
   "outputs": [],
   "source": [
    "%%bash\n",
    "WORK_DIR=/home/jupyter/A419V_release9\n",
    "cd $WORK_DIR\n",
    "\n",
    "ancestry_labels=('AJ' 'CAH' 'CAS' 'EAS' 'EUR')\n",
    "\n",
    "for label in \"${ancestry_labels[@]}\"\n",
    "do\n",
    "\n",
    "    wc -l ${label}/${label}_a419v_r2.ld\n",
    "    \n",
    "done"
   ]
  },
  {
   "cell_type": "code",
   "execution_count": null,
   "metadata": {},
   "outputs": [],
   "source": [
    "pd.set_option(\"Display.max_rows\", None)"
   ]
  },
  {
   "cell_type": "code",
   "execution_count": null,
   "metadata": {},
   "outputs": [],
   "source": [
    "df = pd.DataFrame({\"SNP_B\":\"\"}, index = [0])\n",
    "\n",
    "labels=['AJ', 'CAH', 'CAS', 'EAS', 'EUR']\n",
    "\n",
    "for label in labels:\n",
    "    \n",
    "    ld = pd.read_csv(f\"/home/jupyter/A419V_release9/{label}/{label}_a419v_r2.ld\", delim_whitespace = True)\n",
    "    ld_red = ld[[\"SNP_B\", \"R2\"]]\n",
    "    ld_red.rename(columns = {\"R2\":f\"R2_{label}\"}, inplace = True)\n",
    "\n",
    "    df = pd.merge(df, ld_red, on = \"SNP_B\", how = \"outer\")\n",
    "\n",
    "df"
   ]
  }
 ],
 "metadata": {
  "kernelspec": {
   "display_name": "Python 3",
   "language": "python",
   "name": "python3"
  },
  "language_info": {
   "codemirror_mode": {
    "name": "ipython",
    "version": 3
   },
   "file_extension": ".py",
   "mimetype": "text/x-python",
   "name": "python",
   "nbconvert_exporter": "python",
   "pygments_lexer": "ipython3",
   "version": "3.10.12"
  },
  "toc": {
   "base_numbering": 1,
   "nav_menu": {},
   "number_sections": true,
   "sideBar": true,
   "skip_h1_title": false,
   "title_cell": "Table of Contents",
   "title_sidebar": "Contents",
   "toc_cell": false,
   "toc_position": {
    "height": "calc(100% - 180px)",
    "left": "10px",
    "top": "150px",
    "width": "276px"
   },
   "toc_section_display": true,
   "toc_window_display": true
  }
 },
 "nbformat": 4,
 "nbformat_minor": 2
}
